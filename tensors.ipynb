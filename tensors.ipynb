{
 "cells": [
  {
   "cell_type": "code",
   "execution_count": 5,
   "id": "6e9f969a",
   "metadata": {},
   "outputs": [
    {
     "name": "stdout",
     "output_type": "stream",
     "text": [
      "torch version:  2.6.0+cpu\n",
      "numpy version:  2.2.1\n"
     ]
    }
   ],
   "source": [
    "import torch\n",
    "import numpy as np\n",
    "import warnings\n",
    "warnings.filterwarnings('ignore')\n",
    "\n",
    "print(\"torch version: \", torch.__version__)\n",
    "print(\"numpy version: \", np.__version__ )"
   ]
  },
  {
   "cell_type": "code",
   "execution_count": 8,
   "id": "f5863979",
   "metadata": {},
   "outputs": [
    {
     "name": "stdout",
     "output_type": "stream",
     "text": [
      "tensor([[1., 2., 3.],\n",
      "        [4., 5., 6.]])\n",
      "Data Type:  torch.float32\n",
      "Device:  cpu\n",
      "shape:  torch.Size([2, 3])\n",
      "Requires Gradient: False\n"
     ]
    }
   ],
   "source": [
    "device = \"cuda\" if torch.cuda.is_available() else \"cpu\"\n",
    "\n",
    "my_tensor = torch.tensor([[1,2,3],[4,5,6]], dtype=torch.float32, device=device)\n",
    "\n",
    "print(my_tensor)\n",
    "print(\"Data Type: \", my_tensor.dtype)\n",
    "print(\"Device: \", my_tensor.device)\n",
    "print(\"shape: \", my_tensor.shape)\n",
    "print(\"Requires Gradient:\", my_tensor.requires_grad)"
   ]
  },
  {
   "cell_type": "code",
   "execution_count": 13,
   "id": "ed4cede7",
   "metadata": {},
   "outputs": [
    {
     "name": "stdout",
     "output_type": "stream",
     "text": [
      "empty tensor:\n",
      " tensor([[2.5186e+35, 1.0131e-42, 0.0000e+00],\n",
      "        [0.0000e+00, 0.0000e+00, 0.0000e+00],\n",
      "        [0.0000e+00, 0.0000e+00, 0.0000e+00]])\n"
     ]
    }
   ],
   "source": [
    "# creating an empty tensor of size 3,3\n",
    "\n",
    "x = torch.empty(3,3)\n",
    "print(\"empty tensor:\\n\",x)"
   ]
  },
  {
   "cell_type": "code",
   "execution_count": 17,
   "id": "347c79cb",
   "metadata": {},
   "outputs": [
    {
     "name": "stdout",
     "output_type": "stream",
     "text": [
      "Zeros tensor:\n",
      " tensor([[0., 0., 0.],\n",
      "        [0., 0., 0.],\n",
      "        [0., 0., 0.]])\n"
     ]
    }
   ],
   "source": [
    "# createing a tensor filled with zeroes\n",
    "\n",
    "x = torch.zeros(3,3)\n",
    "print(\"Zeros tensor:\\n\", x)"
   ]
  },
  {
   "cell_type": "code",
   "execution_count": 21,
   "id": "943a9ad2",
   "metadata": {},
   "outputs": [
    {
     "name": "stdout",
     "output_type": "stream",
     "text": [
      "Random values:\n",
      " tensor([[0.3474, 0.9382, 0.2015],\n",
      "        [0.0498, 0.1685, 0.2187],\n",
      "        [0.1700, 0.4837, 0.2991]])\n"
     ]
    }
   ],
   "source": [
    "# creating tensor with random values\n",
    "\n",
    "x = torch.rand(3,3)\n",
    "print(\"Random values:\\n\", x)"
   ]
  },
  {
   "cell_type": "code",
   "execution_count": 23,
   "id": "36f5918a",
   "metadata": {},
   "outputs": [
    {
     "name": "stdout",
     "output_type": "stream",
     "text": [
      "Ones tensors:\n",
      " tensor([[1., 1., 1.],\n",
      "        [1., 1., 1.],\n",
      "        [1., 1., 1.]])\n"
     ]
    }
   ],
   "source": [
    "# creating tensors filled with ones\n",
    "\n",
    "x = torch.ones(3,3)\n",
    "print(\"Ones tensors:\\n\", x)"
   ]
  },
  {
   "cell_type": "code",
   "execution_count": 25,
   "id": "a840270a",
   "metadata": {},
   "outputs": [
    {
     "name": "stdout",
     "output_type": "stream",
     "text": [
      "identity matrix:\n",
      " tensor([[1., 0., 0.],\n",
      "        [0., 1., 0.],\n",
      "        [0., 0., 1.]])\n"
     ]
    }
   ],
   "source": [
    "# creating an identity matrix\n",
    "\n",
    "x = torch.eye(3,3)\n",
    "print(\"identity matrix:\\n\", x)"
   ]
  },
  {
   "cell_type": "code",
   "execution_count": 27,
   "id": "fecf8309",
   "metadata": {},
   "outputs": [
    {
     "name": "stdout",
     "output_type": "stream",
     "text": [
      "Arange tensor:\n",
      " tensor([0, 1, 2, 3, 4])\n"
     ]
    }
   ],
   "source": [
    "# create a tensor using arrange\n",
    "\n",
    "x = torch.arange(5)\n",
    "print(\"Arange tensor:\\n\", x)"
   ]
  },
  {
   "cell_type": "code",
   "execution_count": 34,
   "id": "52a968db",
   "metadata": {},
   "outputs": [
    {
     "name": "stdout",
     "output_type": "stream",
     "text": [
      "tensor([0.1000, 0.1818, 0.2636, 0.3455, 0.4273, 0.5091, 0.5909, 0.6727, 0.7545,\n",
      "        0.8364, 0.9182, 1.0000])\n"
     ]
    }
   ],
   "source": [
    "# linespace\n",
    "\n",
    "x = torch.linspace(0.1,1,12)\n",
    "print(x)\n"
   ]
  },
  {
   "cell_type": "code",
   "execution_count": 40,
   "id": "07092826",
   "metadata": {},
   "outputs": [
    {
     "name": "stdout",
     "output_type": "stream",
     "text": [
      "tensor([[ 1.2304, -0.9471,  0.9863,  0.2832, -0.3722]])\n"
     ]
    }
   ],
   "source": [
    "# creating a tensor with values drawn from a normal distribution \n",
    "\n",
    "x = torch.empty(1,5).normal_(mean=1, std=1)\n",
    "print(x)"
   ]
  },
  {
   "cell_type": "code",
   "execution_count": 43,
   "id": "84410fe0",
   "metadata": {},
   "outputs": [
    {
     "name": "stdout",
     "output_type": "stream",
     "text": [
      "tensor([[0.9565, 0.8432, 0.0286, 0.6959, 0.5612]])\n"
     ]
    }
   ],
   "source": [
    "x = torch.empty(1,5).uniform_(0,1)\n",
    "print(x)"
   ]
  }
 ],
 "metadata": {
  "kernelspec": {
   "display_name": "Python 3",
   "language": "python",
   "name": "python3"
  },
  "language_info": {
   "codemirror_mode": {
    "name": "ipython",
    "version": 3
   },
   "file_extension": ".py",
   "mimetype": "text/x-python",
   "name": "python",
   "nbconvert_exporter": "python",
   "pygments_lexer": "ipython3",
   "version": "3.13.1"
  }
 },
 "nbformat": 4,
 "nbformat_minor": 5
}
